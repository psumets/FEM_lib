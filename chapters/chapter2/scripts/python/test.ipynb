{
 "cells": [
  {
   "cell_type": "markdown",
   "metadata": {},
   "source": [
    "# Chapter 2: Programming One-Dimensional Finite Element Method for the Linear Boundary Value Problem"
   ]
  },
  {
   "cell_type": "markdown",
   "metadata": {},
   "source": [
    "## Listing 2.11: Python code implementing libraries import"
   ]
  },
  {
   "cell_type": "code",
   "execution_count": 26,
   "metadata": {},
   "outputs": [],
   "source": [
    "import numpy\n",
    "import scipy.sparse as sparse\n",
    "import timeit\n",
    "from scipy.sparse.linalg import spsolve\n",
    "import matplotlib.pyplot as plt"
   ]
  },
  {
   "cell_type": "markdown",
   "metadata": {},
   "source": [
    "## Listing 2.12: Python code for Gaussian quadrature rule"
   ]
  },
  {
   "cell_type": "code",
   "execution_count": null,
   "metadata": {},
   "outputs": [],
   "source": [
    "def GaussQuad(n,s0,s1):\n",
    "    nargin=len(locals())\n",
    "    d=[]; w=[]\n",
    "    if nargin==1:\n",
    "        s0=-1; s1=1\n",
    "    if n==1:\n",
    "        d=(s0+s1)/2; w=s1-s0  \n",
    "        return d,w \n",
    "    j=numpy.arange(1,n)\n",
    "    bta=j/numpy.sqrt(4*(j**2)-1)   \n",
    "    Q=numpy.diag(bta, k=-1)+numpy.diag(bta, k=1)\n",
    "    L,U = numpy.linalg.eig(Q)\n",
    "    k=numpy.argsort(L)\n",
    "    d=L[k]; w=2*(U[0][k]**2)\n",
    "    d=s0+0.5*(s1-s0)*(d+1)\n",
    "    w=0.5*(s1-s0)*w\n",
    "    return d,w"
   ]
  },
  {
   "cell_type": "markdown",
   "metadata": {},
   "source": [
    "## Listing 2.13: Python code for Lobatto quadrature rule"
   ]
  },
  {
   "cell_type": "code",
   "execution_count": null,
   "metadata": {},
   "outputs": [],
   "source": [
    "def LobattoQuad (n,s0,s1):\n",
    "    nargin=len(locals())\n",
    "    d=[]; w=[]\n",
    "    if n<2:\n",
    "        print('LobattoQuad: number of nodes is less then 2') \n",
    "        return d,w \n",
    "    if nargin==1:\n",
    "        s0=-1; s1=1 \n",
    "    if n==2:\n",
    "        d=[s0,s1]; w=[(s1-s0)/2,(s1-s0)/2]  \n",
    "        return d,w \n",
    "    k=numpy.arange(1,n-2)\n",
    "    bta=numpy.sqrt(k*(k+2)/(2*k+1)/(2*k+3)) \n",
    "    Q=numpy.diag(bta,k=-1)+numpy.diag(bta,k=1) \n",
    "    L,U = numpy.linalg.eig(Q)\n",
    "    k=numpy.argsort(L)\n",
    "    d=L[k]; w=4/3*(U[0][k]**2); w=w/(1-d**2)\n",
    "    w=numpy.append(w,2/(n**2-n))\n",
    "    w=numpy.insert(w,0,2/(n**2-n))\n",
    "    d=numpy.append(d,1)\n",
    "    d=numpy.insert(d,0,-1)\n",
    "    d=s0+0.5*(s1-s0)*(d+1);\n",
    "    w=0.5*(s1-s0)*w;\n",
    "    return d,w"
   ]
  },
  {
   "cell_type": "markdown",
   "metadata": {},
   "source": [
    "## Listing 2.14: Python code for interpolating and differentiating matrices calculation"
   ]
  },
  {
   "cell_type": "code",
   "execution_count": null,
   "metadata": {},
   "outputs": [],
   "source": [
    "def interpolatingMat(x,d):\n",
    "    nx=numpy.size(x); nd=numpy.size(d)\n",
    "    E=numpy.zeros((nd,nx)) \n",
    "    D=numpy.zeros((nd,nx))\n",
    "    b=numpy.zeros((nx,))\n",
    "    j_all=numpy.arange(nx)\n",
    "    for i in range(nx):\n",
    "        j=numpy.delete(j_all,i) \n",
    "        b[i]=1/numpy.prod(x[i]-x[j]) \n",
    "    for i in range(nx):\n",
    "        j=numpy.delete(j_all,i)\n",
    "        for k in range(nd):\n",
    "            E[k,i]=b[i]*numpy.prod(d[k]-x[j])\n",
    "            ds=0\n",
    "            for l in j:\n",
    "                i1=min(i,l); i2=max(i,l) \n",
    "                jj=numpy.delete(j_all,[i1,i2]) \n",
    "                ds=ds+numpy.prod(d[k]-x[jj]) \n",
    "            D[k,i]=b[i]*ds\n",
    "    return E,D"
   ]
  },
  {
   "cell_type": "markdown",
   "metadata": {},
   "source": [
    "## Listing 2.15: Python code for the FEM error analysis"
   ]
  },
  {
   "cell_type": "code",
   "execution_count": null,
   "metadata": {},
   "outputs": [],
   "source": [
    "def errorNorm(u,du,y,xl,d):\n",
    "    m=numpy.size(d)-1\n",
    "    d_new,w=GaussQuad(m+2,0,1)\n",
    "    E,D=interpolatingMat(d,d_new) \n",
    "    e0=0; e1=0\n",
    "    for l in range(numpy.size(xl)-1):\n",
    "        h=xl[l+1]-xl[l]\n",
    "        dl=xl[l]+h*d_new\n",
    "        ic=l*m+numpy.arange(m+1)\n",
    "        uh=E @ y[ic]; duh=D @ y[ic]/h \n",
    "        e=u(dl)-uh; de=du(dl)-duh\n",
    "        e0=e0+h/2*sum(w*(e**2))\n",
    "        e1=e1+h/2*sum(w*(de**2))\n",
    "    e0=e0**(1/2); e1=e1**(1/2)\n",
    "    return e0,e1\n"
   ]
  },
  {
   "cell_type": "markdown",
   "metadata": {},
   "source": [
    "## Listing 2.16: Python code for generating values on refined mesh"
   ]
  },
  {
   "cell_type": "code",
   "execution_count": null,
   "metadata": {},
   "outputs": [],
   "source": [
    "def getRefinedValues(u,xl,d,k):\n",
    "    d_ref=numpy.linspace(0,1,k+1) # refined basis element\n",
    "    E,D=interpolatingMat(d,d_ref)\n",
    "    n=numpy.size(xl); m=numpy.size(d)-1\n",
    "    x_ref=(n-1)*k+1; # number of all refined mesh points\n",
    "    x=numpy.zeros((x_ref,))\n",
    "    y=numpy.zeros(x.shape)\n",
    "    dy=numpy.zeros(x.shape)\n",
    "    for l in range(n-1):\n",
    "        h=xl[l+1]-xl[l]  #size of element l\n",
    "        i_c=l*m+numpy.arange(m+1) # coarse point indices\n",
    "        i_ref=l*k+numpy.arange(k+1)  # refined points indices\n",
    "        x[i_ref]=numpy.linspace(xl[l],xl[l+1],k+1)\n",
    "        y[i_ref]=E @ u[i_c] \n",
    "        dy[i_ref]=D @ u[i_c]/h \n",
    "    return x,y,dy\n"
   ]
  },
  {
   "cell_type": "markdown",
   "metadata": {},
   "source": [
    "## Listing 2.17: Python code for assembling one-dimensional matrices"
   ]
  },
  {
   "cell_type": "code",
   "execution_count": null,
   "metadata": {},
   "outputs": [],
   "source": [
    "def assemblingAF(c,b,a,f,xl,x,d,w):\n",
    "    E,D=interpolatingMat(x,d)\n",
    "    ET=numpy.transpose(E)\n",
    "    DT=numpy.transpose(D)\n",
    "    m=numpy.size(x)-1\n",
    "    n=numpy.size(xl)-1\n",
    "    n_total=n*m+1;\n",
    "    A=sparse.coo_matrix((n_total,n_total))\n",
    "    F=sparse.coo_matrix((n_total,1))\n",
    "    i_loc=numpy.arange(m + 1)\n",
    "    i_loc_sp_mat = numpy.repeat(i_loc, m + 1)\n",
    "    j_loc_sp_mat = numpy.tile(i_loc, m + 1)\n",
    "    for l in range(n):\n",
    "        h=xl[l+1]-xl[l] # size of element l\n",
    "        xd=xl[l]+h*d # quadrature nodes on element l\n",
    "        c_loc=numpy.diag((w/h)*c(xd))\n",
    "        b_loc=numpy.diag(w*b(xd))\n",
    "        a_loc=numpy.diag((h*w)*a(xd))\n",
    "        Al=(DT @ c_loc+ET @ b_loc) @ D+ET @ a_loc @ E\n",
    "        row=l*m+i_loc_sp_mat\n",
    "        col=l*m+j_loc_sp_mat\n",
    "        A=A+sparse.coo_matrix((Al.flatten(),(row, col)),\\\n",
    "            shape=(n_total,n_total))\n",
    "        Fl=ET @ (h*w*f(xd)).reshape(-1,1)\n",
    "        F=F+sparse.coo_matrix((Fl.flatten(),\\\n",
    "            (l*m+i_loc, numpy.zeros(m+1))),shape=(n_total,1))\n",
    "    return A,F"
   ]
  },
  {
   "cell_type": "markdown",
   "metadata": {},
   "source": [
    "## Listing 2.18: Python code for assembling one-dimensional boundary conditions"
   ]
  },
  {
   "cell_type": "code",
   "execution_count": null,
   "metadata": {},
   "outputs": [],
   "source": [
    "def assemblingBC(bc,A,F):\n",
    "    # bc - boundary conditions matrix of size 2x3 :\n",
    "    # bc(1,:)=[1,0,u_s0] , or bc(1,:)=[3,sig_s0,mu_s0]\n",
    "    # bc(2,:)=[1,0,u_s1] , or bc(2,:)=[3,sig_s1,mu_s1]\n",
    "    n=F.shape[0]-1 #number of all mesh points\n",
    "    # set boundary conditions of 3-d type\n",
    "    if bc[0,0]==3:\n",
    "        A[0,0]=A[0,0]+bc[0,1]\n",
    "        F[0]=F[0]+bc[0,2]\n",
    "    if bc[1,0]==3:\n",
    "        A[n,n]=A[n,n]+bc[1,1] \n",
    "        F[n,0]=F[n,0]+bc[1,2]\n",
    "    #set boundary conditions of the first type\n",
    "    ib=0; ie=n+3\n",
    "    if bc[0,0]==1: \n",
    "        ib=1; u_s0=bc[0,2] \n",
    "        F=F-u_s0*A[:,0]\n",
    "    if bc[1,0]==1: \n",
    "        ie=n+2; u_s1=bc[1,2] \n",
    "        F=F-u_s1*A[:,n]\n",
    "    A0=A[ib:ie,ib:ie] \n",
    "    F0=F[ib:ie,0]\n",
    "    return A0,F0"
   ]
  },
  {
   "cell_type": "markdown",
   "metadata": {},
   "source": [
    "## Listing 2.19: Python code for solving one-dimensional FEM system"
   ]
  },
  {
   "cell_type": "code",
   "execution_count": null,
   "metadata": {},
   "outputs": [],
   "source": [
    "def solveFEM(bc,A0,F0):\n",
    "    u_s0 =[]; u_s1 =[] \n",
    "    if bc[0,0]==1: u_s0=bc[0,2] \n",
    "    if bc[1,0]==1: u_s1=bc[1,2]\n",
    "    u0=sparse.linalg.spsolve(A0,F0)\n",
    "    u=u_s0\n",
    "    u=numpy.append(u,u0)\n",
    "    u=numpy.append(u,u_s1)\n",
    "    return u"
   ]
  },
  {
   "cell_type": "markdown",
   "metadata": {},
   "source": [
    "## Listing 2.20: Python code for solving one-dimensional BVP"
   ]
  },
  {
   "cell_type": "code",
   "execution_count": null,
   "metadata": {},
   "outputs": [],
   "source": [
    "def solveBVP(bc,c,b,a,f,xl,x,d,w):\n",
    "    m=numpy.size(x)-1\n",
    "    n=numpy.size(xl) \n",
    "    N=(n-1)*m+1 # number of mesh points\n",
    "    x_mesh=numpy.zeros((N,)) # all mesh points\n",
    "    for l in range(n-1):\n",
    "        ne=l*m+numpy.arange(m+1) # mesh point indices\n",
    "        x_mesh[ne]=xl[l]+(xl[l+1]-xl[l])*x \n",
    "    A,F=assemblingAF(c,b,a,f,xl,x,d,w)\n",
    "    A0,F0=assemblingBC(bc,A,F)\n",
    "    u=solveFEM(bc,A0,F0)\n",
    "    return u,x_mesh"
   ]
  },
  {
   "cell_type": "markdown",
   "metadata": {},
   "source": [
    "## Listing 2.21: Python code for solving example one-dimensional BVP"
   ]
  },
  {
   "cell_type": "code",
   "execution_count": null,
   "metadata": {},
   "outputs": [],
   "source": [
    "def mainTest():\n",
    "    # set BVP data:\n",
    "    # integration domain\n",
    "    s_0=-1; s_1=1 \n",
    "    # exact solution\n",
    "    def u(x): return numpy.sin(x) \n",
    "    def du(x): return numpy.cos(x) \n",
    "    # equation coefficients\n",
    "    def c(x): return numpy.cos(x)\n",
    "    def b(x): return -2*numpy.sin(x) \n",
    "    def a(x): return numpy.sin(x)\n",
    "    def f(x): return numpy.sin(x)**2\n",
    "    # boundary conditions\n",
    "    sigma=0\n",
    "    mu=c(s_1)*du(s_1)+sigma*u(s_1)\n",
    "    bc=numpy.array([[1, 0, u(s_0)],\n",
    "                     [3, sigma, mu] ])    \n",
    "    # set FEM parameters\n",
    "    m=3 # polynomial degree\n",
    "    ne=6 # number of final elements\n",
    "    M=m+1 # number of quadrature nodes\n",
    "    xl=numpy.linspace(s_0,s_1,ne+1) # finite element nodes\n",
    "    t,_ =LobattoQuad(m+1,0,1) # interpolation nodes\n",
    "    d,w=LobattoQuad(M,0,1) # quadrature nodes and weighs\n",
    "    # solve BVP\n",
    "    start_time = timeit.default_timer()\n",
    "    uh,x=solveBVP(bc,c,b,a,f,xl,t,d,w) \n",
    "    print(\"solving time =\",timeit.default_timer() - start_time)\n",
    "    # find error in L_2 and H^1 norms\n",
    "    e0,e1=errorNorm(u,du,uh,xl,t)\n",
    "    print(\"L2 norm error =\",e0)\n",
    "    print(\"H1 norm error =\",e1)\n",
    "    X,Uh,dUh=getRefinedValues(uh,xl,t,10*m) \n",
    "    # find error in various norms\n",
    "    Z=u(X)-Uh; z=u(x)-uh; dZ=du(X)-dUh \n",
    "    ie=numpy.arange(0,numpy.size(x),m) \n",
    "    print(\"uh error inf norm:\",numpy.linalg.norm(Z,numpy.inf))\n",
    "    print(\"duh error inf norm:\",numpy.linalg.norm(dZ,numpy.inf))\n",
    "    print(\"error at f.e. nodes inf norm:\", \\\n",
    "        numpy.linalg.norm(u(xl)-uh[ie],numpy.inf))\n",
    "    plt.figure() \n",
    "    # plot solution\n",
    "    plt.plot(X,Uh,'-b',x,uh,'rx',x[ie],uh[ie],'ro')\n",
    "    plt.xlabel('x'); plt.ylabel('u_h')\n",
    "    plt.show()\n",
    "    #plot solution error\n",
    "    plt.plot(X,Z,'-b',x,z,'rx',x[ie],z[ie],'ro')\n",
    "    plt.xlabel('x'); plt.ylabel('u-u_h')\n",
    "    plt.show()\n",
    "    #plot derivatives error\n",
    "    plt.plot(X,dZ,'-b',\\\n",
    "            x,numpy.zeros(numpy.size(x)),'rx',\\\n",
    "            x[ie],numpy.zeros(numpy.size(x[ie])),'ro')\n",
    "    plt.xlabel('x'); plt.ylabel('u''-u''_h'); \n",
    "    plt.show()"
   ]
  },
  {
   "cell_type": "markdown",
   "metadata": {},
   "source": [
    "## Run `mainTest` function:"
   ]
  },
  {
   "cell_type": "code",
   "execution_count": null,
   "metadata": {},
   "outputs": [],
   "source": [
    "mainTest()"
   ]
  }
 ],
 "metadata": {
  "kernelspec": {
   "display_name": "scienv",
   "language": "python",
   "name": "python3"
  },
  "language_info": {
   "codemirror_mode": {
    "name": "ipython",
    "version": 3
   },
   "file_extension": ".py",
   "mimetype": "text/x-python",
   "name": "python",
   "nbconvert_exporter": "python",
   "pygments_lexer": "ipython3",
   "version": "3.10.8"
  },
  "orig_nbformat": 4
 },
 "nbformat": 4,
 "nbformat_minor": 2
}
